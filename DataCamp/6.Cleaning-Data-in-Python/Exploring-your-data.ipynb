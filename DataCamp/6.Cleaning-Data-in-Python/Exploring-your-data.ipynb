{
 "cells": [
  {
   "cell_type": "markdown",
   "metadata": {},
   "source": [
    "&copy; Copyright for Shuang Wu 2017<br>\n",
    "Cite from the DataCamp website<br>\n",
    "**Do not cite this notebook in any situation**<br>\n",
    "Persenoal reference only, **do not copy** the code or others"
   ]
  },
  {
   "cell_type": "markdown",
   "metadata": {
    "collapsed": true
   },
   "source": [
    "# Diagnose data for cleaning\n",
    "\n",
    "* Cleaning data\n",
    "    * prepare data for analysis\n",
    "    * data almost never comes in clean\n",
    "    * diagnose data for cleaning\n",
    "* Common data problems\n",
    "    * inconsistent col. name\n",
    "    * missing data\n",
    "    * outliers\n",
    "    * duplicate rows\n",
    "    * untidy\n",
    "    * need to process col.\n",
    "    * col. types can single unexpected data val.\n",
    "* Load data\n",
    "    * panda\n",
    "* Visually inspect\n",
    "    * head and tail\n",
    "    * columns\n",
    "    * shape\n",
    "    * info\n"
   ]
  },
  {
   "cell_type": "markdown",
   "metadata": {},
   "source": [
    "## Loading and viewing data\n",
    "\n",
    "* Load and inspect the DataFrame\n",
    "    * .head()\n",
    "    * .tail()\n",
    "    * .shape\n",
    "    * .columns"
   ]
  },
  {
   "cell_type": "code",
   "execution_count": null,
   "metadata": {
    "collapsed": false
   },
   "outputs": [],
   "source": [
    "import pandas as pd\n",
    "df = pd.read_csv('dob_job_application_filings_subset.csv')\n",
    "print(df.head())\n",
    "print(df.tail())\n",
    "print(df.shape)\n",
    "print(df.columns)\n",
    "print(df_subset.head())\n",
    "print(df_subset.tail())"
   ]
  },
  {
   "cell_type": "markdown",
   "metadata": {},
   "source": [
    "# Futher diagnosis\n",
    "\n",
    "* Unclear or missing data\n",
    "    * .info()\n",
    "        * provides info. about df\n",
    "            * #of rows\n",
    "            * #of cols\n",
    "            * #of non-missing val in each col.\n",
    "            * data type for each col\n",
    "            * help check whether float or string\n",
    "            * also check complete data or missing"
   ]
  },
  {
   "cell_type": "code",
   "execution_count": null,
   "metadata": {
    "collapsed": true
   },
   "outputs": [],
   "source": [
    "print(df.info())\n",
    "print(df_subset.info())"
   ]
  }
 ],
 "metadata": {
  "kernelspec": {
   "display_name": "Python 3",
   "language": "python",
   "name": "python3"
  },
  "language_info": {
   "codemirror_mode": {
    "name": "ipython",
    "version": 3
   },
   "file_extension": ".py",
   "mimetype": "text/x-python",
   "name": "python",
   "nbconvert_exporter": "python",
   "pygments_lexer": "ipython3",
   "version": "3.6.0"
  }
 },
 "nbformat": 4,
 "nbformat_minor": 2
}
